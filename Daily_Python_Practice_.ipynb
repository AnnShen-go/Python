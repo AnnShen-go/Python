{
  "nbformat": 4,
  "nbformat_minor": 0,
  "metadata": {
    "colab": {
      "provenance": []
    },
    "kernelspec": {
      "name": "python3",
      "display_name": "Python 3"
    },
    "language_info": {
      "name": "python"
    }
  },
  "cells": [
    {
      "cell_type": "markdown",
      "source": [
        "896. Monotonic Array- 20240629"
      ],
      "metadata": {
        "id": "ihW-5UUuzgII"
      }
    },
    {
      "cell_type": "code",
      "execution_count": null,
      "metadata": {
        "id": "WTXm37bpLJEp"
      },
      "outputs": [],
      "source": [
        "#V1\n",
        "class Solution(object):\n",
        "    def isMonotonic(self, nums):\n",
        "        \"\"\"\n",
        "        :type nums: List[int]\n",
        "        :rtype: bool\n",
        "        \"\"\"\n",
        "        return nums == sorted(nums) or nums == sorted(nums, reverse=True)\n"
      ]
    },
    {
      "cell_type": "code",
      "source": [
        "#V2\n",
        "class Solution(object):\n",
        "    def isMonotonic(self, nums):\n",
        "        \"\"\"\n",
        "        :type nums: List[int]\n",
        "        :rtype: bool\n",
        "        \"\"\"\n",
        "\n",
        "\n",
        "        increasing = decreasing = True\n",
        "\n",
        "        for n in range(1, len(nums)):\n",
        "            if nums[n] > nums[n - 1]:\n",
        "                decreasing = False\n",
        "            elif nums[n] < nums[n - 1]:\n",
        "                increasing = False\n",
        "\n",
        "        return increasing or decreasing"
      ],
      "metadata": {
        "id": "Q0cUcB1YWdJt"
      },
      "execution_count": null,
      "outputs": []
    },
    {
      "cell_type": "markdown",
      "source": [
        "2215. Find the Difference of Two Arrays- 20240629"
      ],
      "metadata": {
        "id": "MFnb_pZrzzFp"
      }
    },
    {
      "cell_type": "code",
      "source": [
        "#V1\n",
        "def findDifference(nums1, nums2):\n",
        "    set1 = set(nums1)\n",
        "    set2 = set(nums2)\n",
        "\n",
        "    # Find distinct elements in nums1 not in nums2\n",
        "    answer1 = list(set1 - set2)\n",
        "    # Find distinct elements in nums2 not in nums1\n",
        "    answer2 = list(set2 - set1)\n",
        "\n",
        "    return [answer1, answer2]"
      ],
      "metadata": {
        "id": "D0snPdYJL2L4"
      },
      "execution_count": null,
      "outputs": []
    },
    {
      "cell_type": "code",
      "source": [
        "#V2\n",
        "class Solution(object):\n",
        "    def findDifference(self, nums1, nums2):\n",
        "        \"\"\"\n",
        "        :type nums1: List[int]\n",
        "        :type nums2: List[int]\n",
        "        :rtype: List[List[int]]\n",
        "        \"\"\"\n",
        "\n",
        "        answer_1 = list({n1 for n1 in nums1 if n1 not in nums2})\n",
        "        answer_2 = list({n2 for n2 in nums2 if n2 not in nums1})\n",
        "\n",
        "        return [answer_1, answer_2]"
      ],
      "metadata": {
        "id": "dJLISoflMKll"
      },
      "execution_count": null,
      "outputs": []
    },
    {
      "cell_type": "markdown",
      "source": [
        "DP:\n",
        "https://web.ntnu.edu.tw/~algo/DynamicProgramming.html"
      ],
      "metadata": {
        "id": "idKlFApy4d6M"
      }
    },
    {
      "cell_type": "markdown",
      "source": [
        "70 Climb stairs- 20240706"
      ],
      "metadata": {
        "id": "rcYHDzc6z_bZ"
      }
    },
    {
      "cell_type": "code",
      "source": [
        "#V1 --> store the distinct ways in a dynamic table\n",
        "def climbStairs(n: int) -> int:\n",
        "    # 特殊情況處理\n",
        "    if n == 0:\n",
        "        return 1\n",
        "    elif n == 1:\n",
        "        return 1\n",
        "\n",
        "    # 初始化 dp 數組\n",
        "    dp = [0] * (n + 1)\n",
        "    dp[0] = 1  # 到達第 0 級的方法數\n",
        "    dp[1] = 1  # 到達第 1 級的方法數\n",
        "\n",
        "    # 從第 2 級台階開始計算\n",
        "    for i in range(2, n + 1):\n",
        "        dp[i] = dp[i - 1] + dp[i - 2]\n",
        "\n",
        "    # 返回到達第 n 級的方法數\n",
        "    return dp[n]\n",
        "\n",
        "# 示例使用\n",
        "n = 5\n",
        "print(climbStairs(n))  # 輸出: 8\n"
      ],
      "metadata": {
        "id": "18_hM5Dkzn-g"
      },
      "execution_count": null,
      "outputs": []
    },
    {
      "cell_type": "code",
      "source": [
        "#V2\n",
        "class Solution(object):\n",
        "    def climbStairs(self, n):\n",
        "        \"\"\"\n",
        "        :type n: int\n",
        "        :rtype: int\n",
        "        \"\"\"\n",
        "        def climb(n):\n",
        "             if n==1: #only one step option is availble\n",
        "                 return 1\n",
        "             if n ==2: # two options are possible : to take two 1-stpes or to only take one 2-steps\n",
        "                 return 2\n",
        "             return climb(n-1) + climb(n-2)\n",
        "        return climb(n)\n"
      ],
      "metadata": {
        "id": "xK0xOnkj2xxn"
      },
      "execution_count": null,
      "outputs": []
    },
    {
      "cell_type": "markdown",
      "source": [
        "268. Missing Number- 20240709"
      ],
      "metadata": {
        "id": "v0PPvbWV1RAR"
      }
    },
    {
      "cell_type": "code",
      "source": [
        "class Solution(object):\n",
        "    def missingNumber(self, nums):\n",
        "        \"\"\"\n",
        "        :type nums: List[int]\n",
        "        :rtype: int\n",
        "        \"\"\"\n",
        "\n",
        "\n",
        "        x_all= 0\n",
        "        x_num= 0\n",
        "\n",
        "        for i in range(len(nums)+1):\n",
        "            x_all ^= i\n",
        "        for num in nums:\n",
        "            x_num ^= num\n",
        "\n",
        "        return  x_all ^ x_num\n"
      ],
      "metadata": {
        "id": "Y5rzTwcgWT6B"
      },
      "execution_count": null,
      "outputs": []
    },
    {
      "cell_type": "markdown",
      "source": [
        "263. Ugly Number- 20240711"
      ],
      "metadata": {
        "id": "zhQJqFmL1mxh"
      }
    },
    {
      "cell_type": "code",
      "source": [
        "class Solution(object):\n",
        "    def isUgly(self, n):\n",
        "        \"\"\"\n",
        "        :type n: int\n",
        "        :rtype: bool\n",
        "        \"\"\"\n",
        "\n",
        "        if n<=0:\n",
        "            return False\n",
        "\n",
        "        for p in [2,3,5]:\n",
        "            while n%p == 0:\n",
        "                n //= p\n",
        "        return n == 1"
      ],
      "metadata": {
        "id": "uTSeT2ObZJsr"
      },
      "execution_count": null,
      "outputs": []
    },
    {
      "cell_type": "code",
      "source": [
        "class Solution(object):\n",
        "    def checkIfExist(self, arr):\n",
        "        \"\"\"\n",
        "        :type arr: List[int]\n",
        "        :rtype: bool\n",
        "        \"\"\"\n",
        "\n",
        "        for num in arr:\n",
        "            if num%2 ==0 and num//2 in arr:\n",
        "                return True\n",
        "\n",
        "            else:\n",
        "                return False"
      ],
      "metadata": {
        "id": "jYcTSG4t1_ak"
      },
      "execution_count": null,
      "outputs": []
    },
    {
      "cell_type": "markdown",
      "source": [
        "1925. count square sum triples- 20240712"
      ],
      "metadata": {
        "id": "ga-eZLdM1v5F"
      }
    },
    {
      "cell_type": "code",
      "source": [
        "def countSquareTriples(n):\n",
        "    count = 0\n",
        "\n",
        "    for a in range(1, n + 1):\n",
        "        for b in range(1, n + 1):\n",
        "            for c in range(1, n + 1):\n",
        "                if a * a + b * b == c * c:\n",
        "                    count += 1\n",
        "\n",
        "    return count\n",
        "\n",
        "# 示例使用\n",
        "print(countSquareTriples(5))   # 輸出: 2\n",
        "print(countSquareTriples(10))  # 輸出: 4\n"
      ],
      "metadata": {
        "id": "InGYyQF-9XKi"
      },
      "execution_count": null,
      "outputs": []
    },
    {
      "cell_type": "code",
      "source": [
        "#V2\n",
        "class Solution:\n",
        "    def countTriples(self, n: int) -> int:\n",
        "        c = 0\n",
        "        for i in range(1, n+1):\n",
        "            for j in range(i+1, n+1):\n",
        "                sq = i*i + j*j\n",
        "                r = int(sq ** 0.5)\n",
        "                if ( r*r == sq and r <= n ):\n",
        "                    c +=2\n",
        "        return c"
      ],
      "metadata": {
        "id": "_Iwzx6ff_3cR"
      },
      "execution_count": null,
      "outputs": []
    },
    {
      "cell_type": "code",
      "source": [
        "#V3\n",
        "import math\n",
        "\n",
        "class Solution:\n",
        "    def countTriples(self, n: int) -> int:\n",
        "        res = 0\n",
        "\n",
        "        for i in range(1, n + 1):\n",
        "            for j in range(i + 1, n + 1):\n",
        "                s = math.sqrt(i * i + j * j)\n",
        "                if s.is_integer() and s <= n:\n",
        "                    res += 2  # 计数 (i, j, s) 和 (j, i, s)\n",
        "\n",
        "        return res\n",
        "\n",
        "# 示例使用\n",
        "sol = Solution()\n",
        "print(sol.countTriples(5))   # 输出: 2\n",
        "print(sol.countTriples(10))  # 输出: 4\n"
      ],
      "metadata": {
        "id": "STZJZgTrCQn6"
      },
      "execution_count": null,
      "outputs": []
    },
    {
      "cell_type": "markdown",
      "source": [
        "2124. Check if All A's Appears Before All B's- 20240713"
      ],
      "metadata": {
        "id": "LhuRcpfC2M-I"
      }
    },
    {
      "cell_type": "code",
      "source": [
        "class Solution(object):\n",
        "    def checkString(self, s):\n",
        "        \"\"\"\n",
        "        :type s: str\n",
        "        :rtype: bool\n",
        "        \"\"\"\n",
        "\n",
        "        seen_b = False\n",
        "\n",
        "        for char in s:\n",
        "            if char == 'b':\n",
        "                seen_b = True\n",
        "            elif char == 'a' and seen_b:\n",
        "                # 如果遇到 'a' 且已经见过 'b'\n",
        "                return False\n",
        "\n",
        "        return True"
      ],
      "metadata": {
        "id": "j_n8rA26edcg"
      },
      "execution_count": null,
      "outputs": []
    },
    {
      "cell_type": "markdown",
      "source": [
        "169. Majority Element- 20240713"
      ],
      "metadata": {
        "id": "_NDrhh612hIC"
      }
    },
    {
      "cell_type": "code",
      "source": [
        "class Solution(object):\n",
        "    def majorityElement(self, nums):\n",
        "        \"\"\"\n",
        "        :type nums: List[int]\n",
        "        :rtype: int\n",
        "        \"\"\"\n",
        "\n",
        "        for i in nums:\n",
        "            if count(i)> len(nums)/2:\n",
        "                return i"
      ],
      "metadata": {
        "id": "H4MUWHOselWN"
      },
      "execution_count": null,
      "outputs": []
    },
    {
      "cell_type": "code",
      "source": [
        "class Solution:\n",
        "    def majorityElement(self, nums: List[int]) -> int:\n",
        "        count = 0\n",
        "        candidate = 0\n",
        "\n",
        "        for num in nums:\n",
        "            if count == 0:\n",
        "                candidate = num\n",
        "\n",
        "            if num == candidate:\n",
        "                count += 1\n",
        "            else:\n",
        "                count -= 1\n",
        "\n",
        "        return candidate"
      ],
      "metadata": {
        "id": "rPxZxXYjsm9t"
      },
      "execution_count": null,
      "outputs": []
    },
    {
      "cell_type": "markdown",
      "source": [
        "2843. Count Symmetric Integers- 20240716\n"
      ],
      "metadata": {
        "id": "fPALXAqm2mdO"
      }
    },
    {
      "cell_type": "code",
      "source": [
        "class Solution:\n",
        "    def countSymmetricIntegers(self, low: int, high: int) -> int:\n",
        "        ans = 0\n",
        "        for n in range(low, high + 1):\n",
        "            s = str(n)\n",
        "            length = len(s)\n",
        "            if length % 2 == 0 and sum(int(s[i]) for i in range(length // 2)) == sum(int(s[i]) for i in range(length // 2, length)):\n",
        "                ans += 1\n",
        "        return ans\n",
        "\n",
        "# 示例使用\n",
        "sol = Solution()\n",
        "print(sol.countSymmetricIntegers(10, 100))  # 示例輸出\n"
      ],
      "metadata": {
        "id": "pAa5IB36nrZn"
      },
      "execution_count": null,
      "outputs": []
    },
    {
      "cell_type": "markdown",
      "source": [
        "2413. Smallest Even Multiple- 20240717"
      ],
      "metadata": {
        "id": "JieDufH02rXH"
      }
    },
    {
      "cell_type": "code",
      "source": [
        "class Solution(object):\n",
        "    def smallestEvenMultiple(self, n):\n",
        "        \"\"\"\n",
        "        :type n: int\n",
        "        :rtype: int\n",
        "        \"\"\"\n",
        "\n",
        "        if n%2== 0:\n",
        "            return n\n",
        "        elif n%2 != 0:\n",
        "            return 2*n"
      ],
      "metadata": {
        "id": "lkH2ekbEDqVz"
      },
      "execution_count": null,
      "outputs": []
    },
    {
      "cell_type": "code",
      "source": [
        "import math\n",
        "\n",
        "class Solution:\n",
        "    def smallestEvenMultiple(self, n: int) -> int:\n",
        "        return n if n % 2 == 0 else n * 2"
      ],
      "metadata": {
        "id": "eBkB4hCWbpUY"
      },
      "execution_count": null,
      "outputs": []
    },
    {
      "cell_type": "markdown",
      "source": [
        "1346. Check If N and Its Double Exist- 20240717"
      ],
      "metadata": {
        "id": "oAoIEYiV2vps"
      }
    },
    {
      "cell_type": "code",
      "source": [
        "class Solution(object):\n",
        "    def checkIfExist(self, arr):\n",
        "        \"\"\"\n",
        "        :type arr: List[int]\n",
        "        :rtype: bool\n",
        "        \"\"\"\n",
        "        seen = set()\n",
        "\n",
        "        for num in arr:\n",
        "            if 2 * num in seen or (num % 2 == 0 and num // 2 in seen):\n",
        "                return True\n",
        "            seen.add(num)\n",
        "\n",
        "        return False\n",
        "\n",
        "# 示例使用\n",
        "sol = Solution()\n",
        "print(sol.checkIfExist([10, 2, 5, 3]))  # 输出: True\n",
        "print(sol.checkIfExist([7, 1, 14, 11]))  # 输出: True\n",
        "print(sol.checkIfExist([3, 1, 7, 11]))  # 输出: False\n"
      ],
      "metadata": {
        "id": "O6F6N6_Ru9F2"
      },
      "execution_count": null,
      "outputs": []
    },
    {
      "cell_type": "markdown",
      "source": [
        "2114. Maximum Number of Words Found in Sentences- 20240720\n"
      ],
      "metadata": {
        "id": "WFxFSglp21Kl"
      }
    },
    {
      "cell_type": "code",
      "source": [
        "class Solution(object):\n",
        "    def mostWordsFound(self, sentences):\n",
        "        \"\"\"\n",
        "        :type sentences: List[str]\n",
        "        :rtype: int\n",
        "        \"\"\"\n",
        "        return max(len(sentence.split()) for sentence in sentences)\n",
        "\n",
        "# 示例使用\n",
        "sol = Solution()\n",
        "print(sol.mostWordsFound([\"alice and bob love leetcode\", \"i think so too\", \"this is great thanks very much\"]))  # 输出: 6\n"
      ],
      "metadata": {
        "id": "6BwX0aRn9Cph"
      },
      "execution_count": null,
      "outputs": []
    },
    {
      "cell_type": "code",
      "source": [
        "class Solution(object):\n",
        "    def mostWordsFound(self, sentences):\n",
        "        \"\"\"\n",
        "        :type sentences: List[str]\n",
        "        :rtype: int\n",
        "        \"\"\"\n",
        "        max_words = 0\n",
        "\n",
        "        for sentence in sentences:\n",
        "            # 计算每个句子的单词数\n",
        "            word_count = len(sentence.split())\n",
        "            # 更新最大单词数\n",
        "            if word_count > max_words:\n",
        "                max_words = word_count\n",
        "\n",
        "        return max_words\n",
        "\n",
        "# 示例使用\n",
        "sol = Solution()\n",
        "print(sol.mostWordsFound([\"alice and bob love leetcode\", \"i think so too\", \"this is great thanks very much\"]))  # 输出: 6\n"
      ],
      "metadata": {
        "id": "Hr77ZgI99Q5l"
      },
      "execution_count": null,
      "outputs": []
    },
    {
      "cell_type": "markdown",
      "source": [
        "2160. Minimum Sum of Four Digit Number After Splitting Digits- 20240720"
      ],
      "metadata": {
        "id": "19pl7jQI25cY"
      }
    },
    {
      "cell_type": "code",
      "source": [
        "class Solution(object):\n",
        "    def minimumSum(self, num):\n",
        "        \"\"\"\n",
        "        :type num: int\n",
        "        :rtype: int\n",
        "        \"\"\"\n",
        "\n",
        "        digits = sorted([int(d) for d in str(num)])  # 将数字拆开并排序\n",
        "        new1 = digits[0] * 10 + digits[2]  # 组合第一个和第三个数字\n",
        "        new2 = digits[1] * 10 + digits[3]  # 组合第二个和第四个数字\n",
        "        return new1 + new2  # 返回它们的和"
      ],
      "metadata": {
        "id": "TfYh03NqE8Ur"
      },
      "execution_count": null,
      "outputs": []
    },
    {
      "cell_type": "markdown",
      "source": [
        "1662. Check if two string arrays are equivalent\n",
        "https://leetcode.com/problems/check-if-two-string-arrays-are-equivalent/"
      ],
      "metadata": {
        "id": "6fMkqTooScRW"
      }
    },
    {
      "cell_type": "code",
      "source": [
        "class Solution(object):\n",
        "    def arrayStringsAreEqual(self, word1, word2):\n",
        "        \"\"\"\n",
        "        :type word1: List[str]\n",
        "        :type word2: List[str]\n",
        "        :rtype: bool\n",
        "        \"\"\"\n",
        "\n",
        "        first = \"\"\n",
        "        second = \"\"\n",
        "\n",
        "    # Concatenate all elements in word1\n",
        "        for i in range(len(word1)):\n",
        "            first += word1[i]\n",
        "\n",
        "    # Concatenate all elements in word2\n",
        "        for j in range(len(word2)):\n",
        "            second += word2[j]\n",
        "\n",
        "    # Compare the resulting strings\n",
        "        return first == second"
      ],
      "metadata": {
        "id": "yjvpxB0YNlVU"
      },
      "execution_count": null,
      "outputs": []
    },
    {
      "cell_type": "code",
      "source": [
        "def arrayStringsAreEqual(word1, word2):\n",
        "    # Concatenate all elements in word1 and word2\n",
        "    string1 = ''.join(word1)\n",
        "    string2 = ''.join(word2)\n",
        "\n",
        "    # Compare the resulting strings\n",
        "    return string1 == string2"
      ],
      "metadata": {
        "id": "O1hdKpliSe2-"
      },
      "execution_count": null,
      "outputs": []
    },
    {
      "cell_type": "markdown",
      "source": [
        "867. Transpose Matrix\n",
        "0729"
      ],
      "metadata": {
        "id": "uzx0ydsvk6Qe"
      }
    },
    {
      "cell_type": "code",
      "source": [
        "class Solution(object):\n",
        "    def transpose(self, matrix):\n",
        "        \"\"\"\n",
        "        :type matrix: List[List[int]]\n",
        "        :rtype: List[List[int]]\n",
        "        \"\"\"\n",
        "\n",
        "        rows = len(matrix)\n",
        "        cols = len(matrix[1])\n",
        "        transposed_matrix = [[0] * rows for _ in range(cols)]\n",
        "\n",
        "        for r in range(rows):\n",
        "            for c in range(cols):\n",
        "                transposed_matrix[c][r] = matrix[r][c]\n",
        "\n",
        "        return transposed_matrix"
      ],
      "metadata": {
        "id": "OkTbGwwUkcks"
      },
      "execution_count": null,
      "outputs": []
    },
    {
      "cell_type": "markdown",
      "source": [
        "804. Unique Morse Code Words\n",
        "0730"
      ],
      "metadata": {
        "id": "qd6VAOtf6ryf"
      }
    },
    {
      "cell_type": "code",
      "source": [
        "class Solution:\n",
        "    def uniqueMorseRepresentations(self, words: List[str]) -> int:\n",
        "        morse_code = [\".-\", \"-...\", \"-.-.\", \"-..\", \".\", \"..-.\", \"--.\", \"....\", \"..\",\n",
        "                      \".---\", \"-.-\", \".-..\", \"--\", \"-.\", \"---\", \".--.\", \"--.-\", \".-.\",\n",
        "                      \"...\", \"-\", \"..-\", \"...-\", \".--\", \"-..-\", \"-.--\", \"--..\"]\n",
        "\n",
        "        transformations = set()\n",
        "\n",
        "        for word in words:\n",
        "            transformation = ''.join(morse_code[ord(char) - ord('a')] for char in word)\n",
        "            transformations.add(transformation)\n",
        "\n",
        "        return len(transformations)\n"
      ],
      "metadata": {
        "id": "gfbAZ3Jz6i0m"
      },
      "execution_count": null,
      "outputs": []
    },
    {
      "cell_type": "code",
      "source": [
        "def uniqueMorseRepresentations(words):\n",
        "    morse_code_dict = {\n",
        "        'a': \".-\", 'b': \"-...\", 'c': \"-.-.\", 'd': \"-..\", 'e': \".\", 'f': \"..-.\",\n",
        "        'g': \"--.\", 'h': \"....\", 'i': \"..\", 'j': \".---\", 'k': \"-.-\", 'l': \".-..\",\n",
        "        'm': \"--\", 'n': \"-.\", 'o': \"---\", 'p': \".--.\", 'q': \"--.-\", 'r': \".-.\",\n",
        "        's': \"...\", 't': \"-\", 'u': \"..-\", 'v': \"...-\", 'w': \".--\", 'x': \"-..-\",\n",
        "        'y': \"-.--\", 'z': \"--..\"\n",
        "    }\n",
        "\n",
        "    transformations = set()\n",
        "\n",
        "    for word in words:\n",
        "        transformation = ''.join(morse_code_dict[char] for char in word)\n",
        "        transformations.add(transformation)\n",
        "\n",
        "    return len(transformations)\n",
        "\n",
        "# Example usage\n",
        "words = [\"gin\", \"zen\", \"gig\", \"msg\"]\n",
        "print(uniqueMorseRepresentations(words))  # Output: 2\n"
      ],
      "metadata": {
        "id": "B1wEaDcA6hTR"
      },
      "execution_count": null,
      "outputs": []
    },
    {
      "cell_type": "markdown",
      "source": [
        "1464. Maximum Product of Two Elements in an Array\n",
        "_20240801"
      ],
      "metadata": {
        "id": "L05Qf728cwwV"
      }
    },
    {
      "cell_type": "code",
      "source": [
        "class Solution(object):\n",
        "    def maxProduct(self, nums):\n",
        "        \"\"\"\n",
        "        :type nums: List[int]\n",
        "        :rtype: int\n",
        "        \"\"\"\n",
        "        nums.sort()\n",
        "        return (nums[-1] - 1) * (nums[-2] - 1)"
      ],
      "metadata": {
        "id": "5ttUIjUYcu7K"
      },
      "execution_count": null,
      "outputs": []
    },
    {
      "cell_type": "markdown",
      "source": [
        "1207. Unique Number of Occurrences_20240801"
      ],
      "metadata": {
        "id": "3FzPOJQo4IMp"
      }
    },
    {
      "cell_type": "code",
      "source": [
        "class Solution(object):\n",
        "    def uniqueOccurrences(self, arr):\n",
        "        \"\"\"\n",
        "        :type arr: List[int]\n",
        "        :rtype: bool\n",
        "        \"\"\"\n",
        "\n",
        "        count = Counter(arr)\n",
        "\n",
        "    # Step 2: Get the values of the occurrences\n",
        "        occurrences = list(count.values())\n",
        "\n",
        "    # Step 3: Check if the number of occurrences are unique\n",
        "        return len(occurrences) == len(set(occurrences))"
      ],
      "metadata": {
        "id": "gI-L7eoH4Hdh"
      },
      "execution_count": null,
      "outputs": []
    },
    {
      "cell_type": "code",
      "source": [
        "def uniqueOccurrences(arr):\n",
        "    count_dict = {}\n",
        "\n",
        "    # Step 1: Count occurrences of each number in the array\n",
        "    for num in arr:\n",
        "        if num in count_dict:\n",
        "            count_dict[num] += 1\n",
        "        else:\n",
        "            count_dict[num] = 1\n",
        "\n",
        "    # Step 2: Check if all counts are unique\n",
        "    count_set = set()\n",
        "    for count in count_dict.values():\n",
        "        if count in count_set:\n",
        "            return False\n",
        "        count_set.add(count)\n",
        "\n",
        "    return True\n",
        "\n",
        "# Example usage:\n",
        "arr = [1, 2, 2, 1, 1, 3]\n",
        "print(uniqueOccurrences(arr))  # Output: True\n"
      ],
      "metadata": {
        "id": "TfNNeBh67A_j"
      },
      "execution_count": null,
      "outputs": []
    },
    {
      "cell_type": "markdown",
      "source": [
        "832. Flipping an Image 0807"
      ],
      "metadata": {
        "id": "7uhedXHtvLuS"
      }
    },
    {
      "cell_type": "code",
      "source": [
        "class Solution(object):\n",
        "    def flipAndInvertImage(self, image):\n",
        "        \"\"\"\n",
        "        :type image: List[List[int]]\n",
        "        :rtype: List[List[int]]\n",
        "        \"\"\"\n",
        "\n",
        "        for x in range(len(image)):\n",
        "            image[x] = image[x][::-1]\n",
        "            image[x] = [1 - y for y in image[x]]\n",
        "        return image"
      ],
      "metadata": {
        "id": "Al-L1rZEvSSJ"
      },
      "execution_count": null,
      "outputs": []
    },
    {
      "cell_type": "code",
      "source": [
        "class Solution(object):\n",
        "    def flipAndInvertImage(self, image):\n",
        "        \"\"\"\n",
        "        :type image: List[List[int]]\n",
        "        :rtype: List[List[int]]\n",
        "        \"\"\"\n",
        "\n",
        "        for row in image:\n",
        "        # Flip the row horizontally\n",
        "            row.reverse()\n",
        "        # Invert the row\n",
        "            for i in range(len(row)):\n",
        "                row[i] = 1 - row[i]\n",
        "        return image"
      ],
      "metadata": {
        "id": "xrHzOcGl56dq"
      },
      "execution_count": null,
      "outputs": []
    },
    {
      "cell_type": "markdown",
      "source": [
        "2828. Check if a String Is an Acronym of Words 0807"
      ],
      "metadata": {
        "id": "ZTcn-bANI96m"
      }
    },
    {
      "cell_type": "code",
      "source": [
        "class Solution(object):\n",
        "    def isAcronym(self, words, s):\n",
        "        \"\"\"\n",
        "        :type words: List[str]\n",
        "        :type s: str\n",
        "        :rtype: bool\n",
        "        \"\"\"\n",
        "        y= \"\"\n",
        "\n",
        "        for x in range(len(words)):\n",
        "            y += (words[x][0])\n",
        "\n",
        "        return y == s\n"
      ],
      "metadata": {
        "id": "jDR_VJx2I9PF"
      },
      "execution_count": null,
      "outputs": []
    },
    {
      "cell_type": "markdown",
      "source": [
        "1732. Find the Highest Altitude 0808"
      ],
      "metadata": {
        "id": "WTK4Km1F9O5v"
      }
    },
    {
      "cell_type": "code",
      "source": [
        "class Solution(object):\n",
        "    def largestAltitude(self, gain):\n",
        "        \"\"\"\n",
        "        :type gain: List[int]\n",
        "        :rtype: int\n",
        "        \"\"\"\n",
        "\n",
        "        altitudes = [0]\n",
        "        current_altitude = 0\n",
        "\n",
        "        for x in gain:\n",
        "            current_altitude += x\n",
        "            altitudes.append(current_altitude)\n",
        "\n",
        "        return max(altitudes)"
      ],
      "metadata": {
        "id": "bJU-Zbnw9M6D"
      },
      "execution_count": null,
      "outputs": []
    },
    {
      "cell_type": "code",
      "source": [
        "class Solution(object):\n",
        "    def largestAltitude(self, gain):\n",
        "        \"\"\"\n",
        "        :type gain: List[int]\n",
        "        :rtype: int\n",
        "        \"\"\"\n",
        "        r = [0]\n",
        "        for i in gain:\n",
        "            r.append(r[-1]+i)\n",
        "        return max(r)"
      ],
      "metadata": {
        "id": "GveTpeIyDJAq"
      },
      "execution_count": null,
      "outputs": []
    },
    {
      "cell_type": "markdown",
      "source": [
        "2824. Count Pairs Whose Sum is Less than Target 0812"
      ],
      "metadata": {
        "id": "Eb4RPeu9-GmB"
      }
    },
    {
      "cell_type": "code",
      "source": [
        "class Solution(object):\n",
        "    def countPairs(self, nums, target):\n",
        "        \"\"\"\n",
        "        :type nums: List[int]\n",
        "        :type target: int\n",
        "        :rtype: int\n",
        "        \"\"\"\n",
        "\n",
        "        pairs=0\n",
        "        for i in range(0, len(nums)):\n",
        "            for j in range(0, len(nums)):\n",
        "                if  i != j and i < j and nums[i] + nums[j] < target:\n",
        "                    pairs +=1\n",
        "        return pairs\n",
        "\n",
        "        # pairs = 0\n",
        "\n",
        "        # for i in range(len(nums)):\n",
        "        #     for j in range(i + 1, len(nums)):  # Ensure j starts after i\n",
        "        #         if nums[i] + nums[j] < target:\n",
        "        #             pairs += 1\n",
        "        # return pairs"
      ],
      "metadata": {
        "id": "eAT8p_VR-ELV"
      },
      "execution_count": null,
      "outputs": []
    },
    {
      "cell_type": "code",
      "source": [
        "    nums.sort()\n",
        "        left, right = 0, len(nums) - 1\n",
        "        pairs = 0\n",
        "\n",
        "        while left < right:\n",
        "            # Check if the sum of the pair is less than the target\n",
        "            if nums[left] + nums[right] < target:\n",
        "                # If the sum is less than target, all pairs between left and right are valid\n",
        "                pairs += (right - left)\n",
        "                left += 1\n",
        "            else:\n",
        "                right -= 1\n",
        "\n",
        "        return pairs"
      ],
      "metadata": {
        "id": "aiUY9TZJ-nB8"
      },
      "execution_count": null,
      "outputs": []
    },
    {
      "cell_type": "code",
      "source": [
        "Binary approach:\n",
        "\n",
        "        n = len(nums)\n",
        "        nums.sort()\n",
        "        pairs = 0\n",
        "\n",
        "        for i in range(n):\n",
        "            low = i + 1\n",
        "            high = n - 1\n",
        "\n",
        "            while low <= high:\n",
        "                j = (low + high) // 2\n",
        "\n",
        "                if nums[i] + nums[j] < target:\n",
        "                    pairs += j - low + 1\n",
        "                    low = j + 1\n",
        "                else:\n",
        "                    high = j - 1\n",
        "\n",
        "        return pairs"
      ],
      "metadata": {
        "id": "IXTPd4rYTgFM"
      },
      "execution_count": null,
      "outputs": []
    },
    {
      "cell_type": "markdown",
      "source": [
        "228. Summary Ranges 0814"
      ],
      "metadata": {
        "id": "AF3EFSQdSvUD"
      }
    },
    {
      "cell_type": "code",
      "source": [
        "class Solution:\n",
        "    def summaryRanges(self, nums: List[int]) -> List[str]:\n",
        "        ranges = [] # [start, end] or [x, y]\n",
        "        for n in nums:\n",
        "            if ranges and ranges[-1][1] == n-1:\n",
        "                ranges[-1][1] = n\n",
        "            else:\n",
        "                ranges.append([n, n])\n",
        "\n",
        "        return [f'{x}->{y}' if x != y else f'{x}' for x, y in ranges]"
      ],
      "metadata": {
        "id": "zgrg5CdlSutd"
      },
      "execution_count": null,
      "outputs": []
    },
    {
      "cell_type": "code",
      "source": [
        "class Solution:\n",
        "    def summaryRanges(self, nums: List[int]) -> List[str]:\n",
        "\n",
        "        # if not nums:\n",
        "        #     return []\n",
        "\n",
        "        summary = []\n",
        "        start = nums[0]  # 記錄範圍的起點\n",
        "\n",
        "        for i in range(1, len(nums)):\n",
        "            if nums[i] != nums[i - 1] + 1:\n",
        "                # 檢查當前範圍是否只有一個元素\n",
        "                if start == nums[i - 1]:\n",
        "                    summary.append(str(start))\n",
        "                else:\n",
        "                    summary.append(f\"{start}->{nums[i - 1]}\")\n",
        "                start = nums[i]  # 更新起點為新範圍的起點\n",
        "\n",
        "        # 處理最後一個範圍\n",
        "        if start == nums[-1]:\n",
        "            summary.append(str(start))\n",
        "        else:\n",
        "            summary.append(f\"{start}->{nums[-1]}\")\n",
        "\n",
        "        return summary"
      ],
      "metadata": {
        "id": "FLxaK0TTS1xl"
      },
      "execution_count": null,
      "outputs": []
    },
    {
      "cell_type": "markdown",
      "source": [
        "217. Contains Duplicate 0816"
      ],
      "metadata": {
        "id": "49_XBvks6j_4"
      }
    },
    {
      "cell_type": "code",
      "source": [
        "\n",
        "  hset=set()\n",
        "        for ch in nums:\n",
        "            if ch in hset:\n",
        "                return True\n",
        "            hset.add(ch)\n",
        "        return False"
      ],
      "metadata": {
        "id": "ehxygHtR6gRb"
      },
      "execution_count": null,
      "outputs": []
    },
    {
      "cell_type": "markdown",
      "source": [
        "1431. Kids With the Greatest Number of Candies 0816"
      ],
      "metadata": {
        "id": "9XOO8x6oApwV"
      }
    },
    {
      "cell_type": "code",
      "source": [
        "class Solution(object):\n",
        "    def kidsWithCandies(self, candies, extraCandies):\n",
        "        \"\"\"\n",
        "        :type candies: List[int]\n",
        "        :type extraCandies: int\n",
        "        :rtype: List[bool]\n",
        "        \"\"\"\n",
        "        output=[]\n",
        "\n",
        "        for x in candies:\n",
        "            if x + extraCandies >= max(candies):\n",
        "                output.append(True)\n",
        "            else:\n",
        "                output.append(False)\n",
        "        return output"
      ],
      "metadata": {
        "id": "cP2xScjYAoQl"
      },
      "execution_count": null,
      "outputs": []
    },
    {
      "cell_type": "markdown",
      "source": [
        "1436. Destination City 0816"
      ],
      "metadata": {
        "id": "lKUJ_nC7XClM"
      }
    },
    {
      "cell_type": "code",
      "source": [
        "\n",
        "class Solution(object):\n",
        "    def destCity(self, paths):\n",
        "        \"\"\"\n",
        "        :type paths: List[List[str]]\n",
        "        :rtype: str\n",
        "        \"\"\"\n",
        "\n",
        "        start_cities = set()\n",
        "\n",
        "        # 将每个路径的起点加入到 start_cities 集合中\n",
        "        for path in paths:\n",
        "            start_cities.add(path[0])\n",
        "\n",
        "        # 查找终点城市，它不在 start_cities 中\n",
        "        for path in paths:\n",
        "            if path[1] not in start_cities:\n",
        "                return path[1]"
      ],
      "metadata": {
        "id": "Rd21pdIBW_zc"
      },
      "execution_count": null,
      "outputs": []
    },
    {
      "cell_type": "code",
      "source": [
        "# Arthur's'\n",
        "\n",
        "class Solution:\n",
        "    def destCity(self, paths: List[List[str]]) -> str:\n",
        "        tbl = dict()\n",
        "        for item in paths:\n",
        "            if item[0] not in tbl.keys():\n",
        "                tbl[item[0]] = [item[1]]\n",
        "            else:\n",
        "                tbl[item[0]].append(item[1])\n",
        "        for item in paths:\n",
        "            if item[1] not in tbl.keys():\n",
        "                return item[1]"
      ],
      "metadata": {
        "id": "WusittS8h1nQ"
      },
      "execution_count": null,
      "outputs": []
    }
  ]
}